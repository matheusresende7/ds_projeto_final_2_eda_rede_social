{
 "cells": [
  {
   "cell_type": "markdown",
   "metadata": {},
   "source": [
    "# Dicionário de dados"
   ]
  },
  {
   "cell_type": "markdown",
   "metadata": {},
   "source": [
    "- **Arquivo:** raw_dataset.csv\n",
    "\n",
    "<br>\n",
    "\n",
    "| Número | Coluna                 | Descrição                                             | Tipo de Dado |\n",
    "|--------|------------------------|-------------------------------------------------------|--------------|\n",
    "| 1      | CustomerID             | Identificador único de cada cliente                   | float        |\n",
    "| 2      | idade                  | Idade do cliente                                      | float        |\n",
    "| 3      | sexo                   | Gênero do cliente                                     | object       |\n",
    "| 4      | tempo_como_cliente      | Tempo como cliente em meses                           | float        |\n",
    "| 5      | frequencia_uso          | Frequência de uso                                     | float        |\n",
    "| 6      | ligacoes_callcenter     | Número de ligações para o callcenter                  | float        |\n",
    "| 7      | dias_atraso            | Dias de atraso no pagamento da assinatura             | float        |\n",
    "| 8      | assinatura             | Tipo de assinatura                                    | object       |\n",
    "| 9      | duracao_contrato       | Tipo do contrato                                      | object       |\n",
    "| 10     | total_gasto            | Total gasto pelo cliente                              | float        |\n",
    "| 11     | meses_ultima_interacao | Meses da última interação do cliente                  | float        |\n",
    "| **12**     | **cancelou (Target)**               | **1 se o cliente cancelou a assinatura, 0 caso contrário** | **float**        |\n"
   ]
  }
 ],
 "metadata": {
  "language_info": {
   "name": "python"
  }
 },
 "nbformat": 4,
 "nbformat_minor": 2
}
