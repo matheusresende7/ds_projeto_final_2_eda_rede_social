{
 "cells": [
  {
   "cell_type": "markdown",
   "metadata": {},
   "source": [
    "# Dicionário de dados"
   ]
  },
  {
   "cell_type": "markdown",
   "metadata": {},
   "source": [
    "- **Arquivo:** raw_dataset.csv\n",
    "\n",
    "<br>\n",
    "\n",
    "| Número | Coluna      | Descrição                               | Tipo de Dado |\n",
    "|--------|-------------|-----------------------------------------|---------------|\n",
    "| 1      | Tipo        | Tipo de postagem                        | object        |\n",
    "| 2      | Data        | Data da postagem                        | object        |\n",
    "| 3      | Curtidas    | Número de curtidas                     | object        |\n",
    "| 4      | Comentários | Número de comentários                   | float         |\n",
    "| 5      | Visualizações | Número de visualizações               | object        |\n",
    "| 6      | Tags        | Tags da postagem                        | object        |\n",
    "| 7      | Pessoas     | Se tem pessoas na postagem S, caso contrário N | object        |\n",
    "| 8      | Campanhas   | Se é uma postagem de campanha S, caso contrário N | object        |\n",
    "| 9      | Carrosseis  | Se tem carrosseis na postagem S, caso contrário vazio | object        |\n",
    "| 10     | Interacoes  | Número de interações da postagem       | object        |\n"
   ]
  }
 ],
 "metadata": {
  "language_info": {
   "name": "python"
  }
 },
 "nbformat": 4,
 "nbformat_minor": 2
}
