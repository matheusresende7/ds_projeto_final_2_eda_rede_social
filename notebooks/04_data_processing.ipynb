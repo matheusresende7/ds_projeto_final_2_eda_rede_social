{
 "cells": [
  {
   "cell_type": "markdown",
   "metadata": {},
   "source": [
    "# 04. Data Processing"
   ]
  },
  {
   "cell_type": "markdown",
   "metadata": {},
   "source": [
    "### Importando as bibliotecas"
   ]
  },
  {
   "cell_type": "code",
   "execution_count": 1,
   "metadata": {},
   "outputs": [],
   "source": [
    "import sys\n",
    "sys.path.append('..')\n",
    "import pandas as pd\n",
    "from ydata_profiling import ProfileReport\n",
    "import functions.fn_stats as fn_stats\n",
    "import functions.fn_charts as fn_charts\n",
    "import params.consts as consts"
   ]
  },
  {
   "cell_type": "markdown",
   "metadata": {},
   "source": [
    "### Lendo o dataset"
   ]
  },
  {
   "cell_type": "code",
   "execution_count": 2,
   "metadata": {},
   "outputs": [],
   "source": [
    "df = pd.read_csv(consts.DATASET_RAW) # Armazenando o dataset em uma variável"
   ]
  },
  {
   "cell_type": "code",
   "execution_count": 3,
   "metadata": {},
   "outputs": [
    {
     "data": {
      "text/html": [
       "<div>\n",
       "<style scoped>\n",
       "    .dataframe tbody tr th:only-of-type {\n",
       "        vertical-align: middle;\n",
       "    }\n",
       "\n",
       "    .dataframe tbody tr th {\n",
       "        vertical-align: top;\n",
       "    }\n",
       "\n",
       "    .dataframe thead th {\n",
       "        text-align: right;\n",
       "    }\n",
       "</style>\n",
       "<table border=\"1\" class=\"dataframe\">\n",
       "  <thead>\n",
       "    <tr style=\"text-align: right;\">\n",
       "      <th></th>\n",
       "      <th>Tipo</th>\n",
       "      <th>Data</th>\n",
       "      <th>Curtidas</th>\n",
       "      <th>Comentários</th>\n",
       "      <th>Visualizações</th>\n",
       "      <th>Tags</th>\n",
       "      <th>Pessoas</th>\n",
       "      <th>Campanhas</th>\n",
       "      <th>Carrossel</th>\n",
       "      <th>Interacoes</th>\n",
       "    </tr>\n",
       "  </thead>\n",
       "  <tbody>\n",
       "    <tr>\n",
       "      <th>0</th>\n",
       "      <td>Foto</td>\n",
       "      <td>11-Sep</td>\n",
       "      <td>2,858</td>\n",
       "      <td>16</td>\n",
       "      <td>NaN</td>\n",
       "      <td>Loja</td>\n",
       "      <td>N</td>\n",
       "      <td>N</td>\n",
       "      <td>NaN</td>\n",
       "      <td>2,874</td>\n",
       "    </tr>\n",
       "    <tr>\n",
       "      <th>1</th>\n",
       "      <td>Foto</td>\n",
       "      <td>11-Sep</td>\n",
       "      <td>2,930</td>\n",
       "      <td>28</td>\n",
       "      <td>NaN</td>\n",
       "      <td>Loja/Produtos</td>\n",
       "      <td>N</td>\n",
       "      <td>N</td>\n",
       "      <td>NaN</td>\n",
       "      <td>2,958</td>\n",
       "    </tr>\n",
       "    <tr>\n",
       "      <th>2</th>\n",
       "      <td>Foto</td>\n",
       "      <td>11-Sep</td>\n",
       "      <td>2,807</td>\n",
       "      <td>9</td>\n",
       "      <td>NaN</td>\n",
       "      <td>Loja</td>\n",
       "      <td>N</td>\n",
       "      <td>N</td>\n",
       "      <td>NaN</td>\n",
       "      <td>2,816</td>\n",
       "    </tr>\n",
       "    <tr>\n",
       "      <th>3</th>\n",
       "      <td>Vídeo</td>\n",
       "      <td>12-Sep</td>\n",
       "      <td>5,115</td>\n",
       "      <td>49</td>\n",
       "      <td>82,878</td>\n",
       "      <td>Produtos</td>\n",
       "      <td>N</td>\n",
       "      <td>N</td>\n",
       "      <td>NaN</td>\n",
       "      <td>5,164</td>\n",
       "    </tr>\n",
       "    <tr>\n",
       "      <th>4</th>\n",
       "      <td>Foto</td>\n",
       "      <td>13-Sep</td>\n",
       "      <td>4,392</td>\n",
       "      <td>45</td>\n",
       "      <td>NaN</td>\n",
       "      <td>Produtos</td>\n",
       "      <td>S</td>\n",
       "      <td>N</td>\n",
       "      <td>NaN</td>\n",
       "      <td>4,437</td>\n",
       "    </tr>\n",
       "  </tbody>\n",
       "</table>\n",
       "</div>"
      ],
      "text/plain": [
       "    Tipo    Data Curtidas  Comentários Visualizações           Tags Pessoas  \\\n",
       "0   Foto  11-Sep    2,858           16           NaN           Loja       N   \n",
       "1   Foto  11-Sep    2,930           28           NaN  Loja/Produtos       N   \n",
       "2   Foto  11-Sep    2,807            9           NaN           Loja       N   \n",
       "3  Vídeo  12-Sep    5,115           49        82,878       Produtos       N   \n",
       "4   Foto  13-Sep    4,392           45           NaN       Produtos       S   \n",
       "\n",
       "  Campanhas Carrossel Interacoes   \n",
       "0         N       NaN       2,874  \n",
       "1         N       NaN       2,958  \n",
       "2         N       NaN       2,816  \n",
       "3         N       NaN       5,164  \n",
       "4         N       NaN       4,437  "
      ]
     },
     "execution_count": 3,
     "metadata": {},
     "output_type": "execute_result"
    }
   ],
   "source": [
    "df.head(5) # Exibindo as 3 primeiras linhas do dataset"
   ]
  },
  {
   "cell_type": "code",
   "execution_count": 4,
   "metadata": {},
   "outputs": [
    {
     "name": "stdout",
     "output_type": "stream",
     "text": [
      "<class 'pandas.core.frame.DataFrame'>\n",
      "RangeIndex: 52 entries, 0 to 51\n",
      "Data columns (total 10 columns):\n",
      " #   Column         Non-Null Count  Dtype \n",
      "---  ------         --------------  ----- \n",
      " 0   Tipo           52 non-null     object\n",
      " 1   Data           52 non-null     object\n",
      " 2   Curtidas       52 non-null     object\n",
      " 3   Comentários    52 non-null     int64 \n",
      " 4   Visualizações  15 non-null     object\n",
      " 5   Tags           44 non-null     object\n",
      " 6   Pessoas        52 non-null     object\n",
      " 7   Campanhas      52 non-null     object\n",
      " 8   Carrossel      8 non-null      object\n",
      " 9   Interacoes     52 non-null     object\n",
      "dtypes: int64(1), object(9)\n",
      "memory usage: 4.2+ KB\n"
     ]
    }
   ],
   "source": [
    "df.info() # Exibindo as informações das variáveis do dataset"
   ]
  },
  {
   "cell_type": "code",
   "execution_count": 5,
   "metadata": {},
   "outputs": [
    {
     "data": {
      "text/html": [
       "<div>\n",
       "<style scoped>\n",
       "    .dataframe tbody tr th:only-of-type {\n",
       "        vertical-align: middle;\n",
       "    }\n",
       "\n",
       "    .dataframe tbody tr th {\n",
       "        vertical-align: top;\n",
       "    }\n",
       "\n",
       "    .dataframe thead th {\n",
       "        text-align: right;\n",
       "    }\n",
       "</style>\n",
       "<table border=\"1\" class=\"dataframe\">\n",
       "  <thead>\n",
       "    <tr style=\"text-align: right;\">\n",
       "      <th></th>\n",
       "      <th>Comentários</th>\n",
       "    </tr>\n",
       "  </thead>\n",
       "  <tbody>\n",
       "    <tr>\n",
       "      <th>count</th>\n",
       "      <td>52.00</td>\n",
       "    </tr>\n",
       "    <tr>\n",
       "      <th>mean</th>\n",
       "      <td>189.50</td>\n",
       "    </tr>\n",
       "    <tr>\n",
       "      <th>std</th>\n",
       "      <td>170.69</td>\n",
       "    </tr>\n",
       "    <tr>\n",
       "      <th>min</th>\n",
       "      <td>9.00</td>\n",
       "    </tr>\n",
       "    <tr>\n",
       "      <th>25%</th>\n",
       "      <td>69.50</td>\n",
       "    </tr>\n",
       "    <tr>\n",
       "      <th>50%</th>\n",
       "      <td>128.00</td>\n",
       "    </tr>\n",
       "    <tr>\n",
       "      <th>75%</th>\n",
       "      <td>265.25</td>\n",
       "    </tr>\n",
       "    <tr>\n",
       "      <th>max</th>\n",
       "      <td>852.00</td>\n",
       "    </tr>\n",
       "  </tbody>\n",
       "</table>\n",
       "</div>"
      ],
      "text/plain": [
       "       Comentários\n",
       "count        52.00\n",
       "mean        189.50\n",
       "std         170.69\n",
       "min           9.00\n",
       "25%          69.50\n",
       "50%         128.00\n",
       "75%         265.25\n",
       "max         852.00"
      ]
     },
     "metadata": {},
     "output_type": "display_data"
    }
   ],
   "source": [
    "fn_stats.describe(df) # Usando a função que exibe as estatísticas das colunas numéricas"
   ]
  },
  {
   "cell_type": "code",
   "execution_count": 6,
   "metadata": {},
   "outputs": [
    {
     "data": {
      "text/html": [
       "<div>\n",
       "<style scoped>\n",
       "    .dataframe tbody tr th:only-of-type {\n",
       "        vertical-align: middle;\n",
       "    }\n",
       "\n",
       "    .dataframe tbody tr th {\n",
       "        vertical-align: top;\n",
       "    }\n",
       "\n",
       "    .dataframe thead th {\n",
       "        text-align: right;\n",
       "    }\n",
       "</style>\n",
       "<table border=\"1\" class=\"dataframe\">\n",
       "  <thead>\n",
       "    <tr style=\"text-align: right;\">\n",
       "      <th></th>\n",
       "      <th>Tipo</th>\n",
       "      <th>Data</th>\n",
       "      <th>Curtidas</th>\n",
       "      <th>Visualizações</th>\n",
       "      <th>Tags</th>\n",
       "      <th>Pessoas</th>\n",
       "      <th>Campanhas</th>\n",
       "      <th>Carrossel</th>\n",
       "      <th>Interacoes</th>\n",
       "    </tr>\n",
       "  </thead>\n",
       "  <tbody>\n",
       "    <tr>\n",
       "      <th>count</th>\n",
       "      <td>52</td>\n",
       "      <td>52</td>\n",
       "      <td>52</td>\n",
       "      <td>15</td>\n",
       "      <td>44</td>\n",
       "      <td>52</td>\n",
       "      <td>52</td>\n",
       "      <td>8</td>\n",
       "      <td>52</td>\n",
       "    </tr>\n",
       "    <tr>\n",
       "      <th>unique</th>\n",
       "      <td>4</td>\n",
       "      <td>50</td>\n",
       "      <td>52</td>\n",
       "      <td>15</td>\n",
       "      <td>12</td>\n",
       "      <td>2</td>\n",
       "      <td>2</td>\n",
       "      <td>1</td>\n",
       "      <td>52</td>\n",
       "    </tr>\n",
       "    <tr>\n",
       "      <th>top</th>\n",
       "      <td>Foto</td>\n",
       "      <td>11-Sep</td>\n",
       "      <td>2,858</td>\n",
       "      <td>82,878</td>\n",
       "      <td>Produtos</td>\n",
       "      <td>S</td>\n",
       "      <td>N</td>\n",
       "      <td>S</td>\n",
       "      <td>2,874</td>\n",
       "    </tr>\n",
       "    <tr>\n",
       "      <th>freq</th>\n",
       "      <td>36</td>\n",
       "      <td>3</td>\n",
       "      <td>1</td>\n",
       "      <td>1</td>\n",
       "      <td>12</td>\n",
       "      <td>40</td>\n",
       "      <td>30</td>\n",
       "      <td>8</td>\n",
       "      <td>1</td>\n",
       "    </tr>\n",
       "  </tbody>\n",
       "</table>\n",
       "</div>"
      ],
      "text/plain": [
       "        Tipo    Data Curtidas Visualizações      Tags Pessoas Campanhas  \\\n",
       "count     52      52       52            15        44      52        52   \n",
       "unique     4      50       52            15        12       2         2   \n",
       "top     Foto  11-Sep    2,858        82,878  Produtos       S         N   \n",
       "freq      36       3        1             1        12      40        30   \n",
       "\n",
       "       Carrossel Interacoes   \n",
       "count          8          52  \n",
       "unique         1          52  \n",
       "top            S       2,874  \n",
       "freq           8           1  "
      ]
     },
     "execution_count": 6,
     "metadata": {},
     "output_type": "execute_result"
    }
   ],
   "source": [
    "df.describe(exclude='number') # Exibindo as estatísticas das colunas categóricas"
   ]
  },
  {
   "cell_type": "code",
   "execution_count": 7,
   "metadata": {},
   "outputs": [
    {
     "data": {
      "text/plain": [
       "Tipo              0\n",
       "Data              0\n",
       "Curtidas          0\n",
       "Comentários       0\n",
       "Visualizações    37\n",
       "Tags              8\n",
       "Pessoas           0\n",
       "Campanhas         0\n",
       "Carrossel        44\n",
       "Interacoes        0\n",
       "dtype: int64"
      ]
     },
     "execution_count": 7,
     "metadata": {},
     "output_type": "execute_result"
    }
   ],
   "source": [
    "df.isnull().sum() # Somando todos os valores nulos de cada coluna"
   ]
  },
  {
   "cell_type": "markdown",
   "metadata": {},
   "source": [
    "### Corrigindo os tipos de dados das colunas\n",
    "- **Data:** Convertendo essa coluna para o formato de data.\n",
    "- **Curtidas:** Convertendo essa coluna para o formato de float.\n",
    "- **Interacoes:** Convertendo essa coluna para o formato de float."
   ]
  },
  {
   "cell_type": "code",
   "execution_count": 8,
   "metadata": {},
   "outputs": [],
   "source": [
    "df['Data'] = pd.to_datetime(df['Data'] + '-2021', format='%d-%b-%Y') # Convertendo a coluna para o formato de data\n",
    "df.rename(columns={'Interacoes ': 'Interacoes'}, inplace=True) # Removendo o espaço do nome da coluna\n",
    "for column in ['Curtidas', 'Interacoes']: # Criando uma estrutura de repetição para tratar as colunas Curtidas e Interacoes\n",
    "    df[column] = df[column].str.replace(',', '.', regex=False) # Substituindo vírgulas por pontos\n",
    "    df[column] = df[column].astype(float) # Convertendo a coluna para o formato float\n",
    "    df[column] = df[column] * 1000 # Definindo o valor correto para coluna\n",
    "    df[column] = df[column].astype('int64') # Convertendo a coluna para o formato int"
   ]
  },
  {
   "cell_type": "markdown",
   "metadata": {},
   "source": [
    "### Tratando as colunas com valores nulos/vazios\n",
    "- **Visualizações:** Excluindo essa coluna pois há muitos valores vazios.\n",
    "- **Tags:** Substituindo os valores vazios por Sem Tag, após analisar a base.\n",
    "- **Carrossel:** Substituindo os valores vazios por N, após analisar a base."
   ]
  },
  {
   "cell_type": "code",
   "execution_count": 9,
   "metadata": {},
   "outputs": [],
   "source": [
    "df = df.drop('Visualizações', axis=1) # Excluindo a coluna\n",
    "df['Tags'] = df['Tags'].fillna('Sem Tag') # Substituindo os valores vazios\n",
    "df['Carrossel'] = df['Carrossel'].fillna('N') # Substituindo os valores vazios"
   ]
  },
  {
   "cell_type": "markdown",
   "metadata": {},
   "source": [
    "### Criando colunas de tempo/idade\n",
    "- **N/A**"
   ]
  },
  {
   "cell_type": "markdown",
   "metadata": {},
   "source": [
    "### Mesclando colunas com muitas categorias\n",
    "- **N/A**"
   ]
  },
  {
   "cell_type": "markdown",
   "metadata": {},
   "source": [
    "### Unificando colunas semelhantes\n",
    "- **N/A**"
   ]
  },
  {
   "cell_type": "markdown",
   "metadata": {},
   "source": [
    "### Criando colunas derivadas de outras\n",
    "- **Dia_Da_Semana:** Criando a coluna de dia da semana com base na data para extrair possíveis insights"
   ]
  },
  {
   "cell_type": "code",
   "execution_count": 10,
   "metadata": {},
   "outputs": [],
   "source": [
    "df['Dia_Da_Semana'] = df['Data'].dt.day_name() # Criando a coluna de dia da semana com base na data"
   ]
  },
  {
   "cell_type": "markdown",
   "metadata": {},
   "source": [
    "### Visualizando o dataset antes de tratar outliers e excluir colunas"
   ]
  },
  {
   "cell_type": "code",
   "execution_count": 11,
   "metadata": {},
   "outputs": [
    {
     "data": {
      "text/html": [
       "<div>\n",
       "<style scoped>\n",
       "    .dataframe tbody tr th:only-of-type {\n",
       "        vertical-align: middle;\n",
       "    }\n",
       "\n",
       "    .dataframe tbody tr th {\n",
       "        vertical-align: top;\n",
       "    }\n",
       "\n",
       "    .dataframe thead th {\n",
       "        text-align: right;\n",
       "    }\n",
       "</style>\n",
       "<table border=\"1\" class=\"dataframe\">\n",
       "  <thead>\n",
       "    <tr style=\"text-align: right;\">\n",
       "      <th></th>\n",
       "      <th>Tipo</th>\n",
       "      <th>Data</th>\n",
       "      <th>Curtidas</th>\n",
       "      <th>Comentários</th>\n",
       "      <th>Tags</th>\n",
       "      <th>Pessoas</th>\n",
       "      <th>Campanhas</th>\n",
       "      <th>Carrossel</th>\n",
       "      <th>Interacoes</th>\n",
       "      <th>Dia_Da_Semana</th>\n",
       "    </tr>\n",
       "  </thead>\n",
       "  <tbody>\n",
       "    <tr>\n",
       "      <th>0</th>\n",
       "      <td>Foto</td>\n",
       "      <td>2021-09-11</td>\n",
       "      <td>2858</td>\n",
       "      <td>16</td>\n",
       "      <td>Loja</td>\n",
       "      <td>N</td>\n",
       "      <td>N</td>\n",
       "      <td>N</td>\n",
       "      <td>2874</td>\n",
       "      <td>Saturday</td>\n",
       "    </tr>\n",
       "    <tr>\n",
       "      <th>1</th>\n",
       "      <td>Foto</td>\n",
       "      <td>2021-09-11</td>\n",
       "      <td>2930</td>\n",
       "      <td>28</td>\n",
       "      <td>Loja/Produtos</td>\n",
       "      <td>N</td>\n",
       "      <td>N</td>\n",
       "      <td>N</td>\n",
       "      <td>2958</td>\n",
       "      <td>Saturday</td>\n",
       "    </tr>\n",
       "    <tr>\n",
       "      <th>2</th>\n",
       "      <td>Foto</td>\n",
       "      <td>2021-09-11</td>\n",
       "      <td>2807</td>\n",
       "      <td>9</td>\n",
       "      <td>Loja</td>\n",
       "      <td>N</td>\n",
       "      <td>N</td>\n",
       "      <td>N</td>\n",
       "      <td>2816</td>\n",
       "      <td>Saturday</td>\n",
       "    </tr>\n",
       "    <tr>\n",
       "      <th>3</th>\n",
       "      <td>Vídeo</td>\n",
       "      <td>2021-09-12</td>\n",
       "      <td>5115</td>\n",
       "      <td>49</td>\n",
       "      <td>Produtos</td>\n",
       "      <td>N</td>\n",
       "      <td>N</td>\n",
       "      <td>N</td>\n",
       "      <td>5164</td>\n",
       "      <td>Sunday</td>\n",
       "    </tr>\n",
       "    <tr>\n",
       "      <th>4</th>\n",
       "      <td>Foto</td>\n",
       "      <td>2021-09-13</td>\n",
       "      <td>4392</td>\n",
       "      <td>45</td>\n",
       "      <td>Produtos</td>\n",
       "      <td>S</td>\n",
       "      <td>N</td>\n",
       "      <td>N</td>\n",
       "      <td>4437</td>\n",
       "      <td>Monday</td>\n",
       "    </tr>\n",
       "  </tbody>\n",
       "</table>\n",
       "</div>"
      ],
      "text/plain": [
       "    Tipo       Data  Curtidas  Comentários           Tags Pessoas Campanhas  \\\n",
       "0   Foto 2021-09-11      2858           16           Loja       N         N   \n",
       "1   Foto 2021-09-11      2930           28  Loja/Produtos       N         N   \n",
       "2   Foto 2021-09-11      2807            9           Loja       N         N   \n",
       "3  Vídeo 2021-09-12      5115           49       Produtos       N         N   \n",
       "4   Foto 2021-09-13      4392           45       Produtos       S         N   \n",
       "\n",
       "  Carrossel  Interacoes Dia_Da_Semana  \n",
       "0         N        2874      Saturday  \n",
       "1         N        2958      Saturday  \n",
       "2         N        2816      Saturday  \n",
       "3         N        5164        Sunday  \n",
       "4         N        4437        Monday  "
      ]
     },
     "execution_count": 11,
     "metadata": {},
     "output_type": "execute_result"
    }
   ],
   "source": [
    "df.head(5) # Exibindo as 5 primeiras linhas do dataset"
   ]
  },
  {
   "cell_type": "markdown",
   "metadata": {},
   "source": [
    "### Tratando as colunas com valores outliers\n",
    "- **N/A**"
   ]
  },
  {
   "cell_type": "markdown",
   "metadata": {},
   "source": [
    "### Excluindo as colunas que contém valores únicos\n",
    "- **N/A**"
   ]
  },
  {
   "cell_type": "markdown",
   "metadata": {},
   "source": [
    "### Excluindo as colunas que contém valores constantes\n",
    "- **N/A**"
   ]
  },
  {
   "cell_type": "markdown",
   "metadata": {},
   "source": [
    "### Salvando o dataset processado\n",
    "- **N/A**"
   ]
  },
  {
   "cell_type": "markdown",
   "metadata": {},
   "source": [
    "### Excluindo as colunas auxiliares\n",
    "- **N/A**"
   ]
  },
  {
   "cell_type": "markdown",
   "metadata": {},
   "source": [
    "### Ordenando as colunas relacionadas"
   ]
  },
  {
   "cell_type": "code",
   "execution_count": 12,
   "metadata": {},
   "outputs": [],
   "source": [
    "df = df.reindex(columns=[ # Ordenando as colunas em uma ordem que faz mais sentido para análises\n",
    "        'Tipo',\n",
    "        'Data',\n",
    "        'Dia_Da_Semana',\n",
    "        'Curtidas',\n",
    "        'Comentários',\n",
    "        'Interacoes',\n",
    "        'Tags',\n",
    "        'Pessoas',\n",
    "        'Campanhas',\n",
    "        'Carrossel',\n",
    "    ]\n",
    ")"
   ]
  },
  {
   "cell_type": "markdown",
   "metadata": {},
   "source": [
    "### Salvando o dataset lean"
   ]
  },
  {
   "cell_type": "code",
   "execution_count": 13,
   "metadata": {},
   "outputs": [],
   "source": [
    "df.to_csv(consts.DATASET_LEAN, index=False) # Salvando o dataset lean"
   ]
  },
  {
   "cell_type": "markdown",
   "metadata": {},
   "source": [
    "### Gerando um novo relatório Profile Report"
   ]
  },
  {
   "cell_type": "code",
   "execution_count": 14,
   "metadata": {},
   "outputs": [
    {
     "data": {
      "application/vnd.jupyter.widget-view+json": {
       "model_id": "9fe06c0d98cc48cdb4c172632cef301e",
       "version_major": 2,
       "version_minor": 0
      },
      "text/plain": [
       "Summarize dataset:   0%|          | 0/5 [00:00<?, ?it/s]"
      ]
     },
     "metadata": {},
     "output_type": "display_data"
    },
    {
     "data": {
      "application/vnd.jupyter.widget-view+json": {
       "model_id": "7d9b2db1ac214fc389157fcfc4cbc1b1",
       "version_major": 2,
       "version_minor": 0
      },
      "text/plain": [
       "Generate report structure:   0%|          | 0/1 [00:00<?, ?it/s]"
      ]
     },
     "metadata": {},
     "output_type": "display_data"
    },
    {
     "data": {
      "application/vnd.jupyter.widget-view+json": {
       "model_id": "6e62e980d7f1469785f8f51f318fcb71",
       "version_major": 2,
       "version_minor": 0
      },
      "text/plain": [
       "Render HTML:   0%|          | 0/1 [00:00<?, ?it/s]"
      ]
     },
     "metadata": {},
     "output_type": "display_data"
    },
    {
     "data": {
      "application/vnd.jupyter.widget-view+json": {
       "model_id": "48f83fd9f37f419c875bec921dd01c0c",
       "version_major": 2,
       "version_minor": 0
      },
      "text/plain": [
       "Export report to file:   0%|          | 0/1 [00:00<?, ?it/s]"
      ]
     },
     "metadata": {},
     "output_type": "display_data"
    }
   ],
   "source": [
    "profile = ProfileReport(df) # Armazenando em uma variável o ProfileReport\n",
    "\n",
    "profile.to_file(consts.EDA_1) # Salvando o profile report na pasta reports em formato html"
   ]
  }
 ],
 "metadata": {
  "kernelspec": {
   "display_name": "Python 3",
   "language": "python",
   "name": "python3"
  },
  "language_info": {
   "codemirror_mode": {
    "name": "ipython",
    "version": 3
   },
   "file_extension": ".py",
   "mimetype": "text/x-python",
   "name": "python",
   "nbconvert_exporter": "python",
   "pygments_lexer": "ipython3",
   "version": "3.12.4"
  }
 },
 "nbformat": 4,
 "nbformat_minor": 2
}
