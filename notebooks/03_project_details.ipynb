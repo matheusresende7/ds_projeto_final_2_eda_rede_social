{
 "cells": [
  {
   "cell_type": "markdown",
   "metadata": {},
   "source": [
    "# 03. Project Details\n",
    "\n"
   ]
  },
  {
   "cell_type": "markdown",
   "metadata": {},
   "source": [
    "### Importando as bibliotecas"
   ]
  },
  {
   "cell_type": "code",
   "execution_count": 1,
   "metadata": {},
   "outputs": [],
   "source": [
    "import sys\n",
    "sys.path.append('..')\n",
    "import pandas as pd\n",
    "from ydata_profiling import ProfileReport\n",
    "import functions.fn_stats as fn_stats\n",
    "import params.consts as consts"
   ]
  },
  {
   "cell_type": "markdown",
   "metadata": {},
   "source": [
    "### Lendo o dataset"
   ]
  },
  {
   "cell_type": "code",
   "execution_count": 2,
   "metadata": {},
   "outputs": [
    {
     "data": {
      "text/html": [
       "<div>\n",
       "<style scoped>\n",
       "    .dataframe tbody tr th:only-of-type {\n",
       "        vertical-align: middle;\n",
       "    }\n",
       "\n",
       "    .dataframe tbody tr th {\n",
       "        vertical-align: top;\n",
       "    }\n",
       "\n",
       "    .dataframe thead th {\n",
       "        text-align: right;\n",
       "    }\n",
       "</style>\n",
       "<table border=\"1\" class=\"dataframe\">\n",
       "  <thead>\n",
       "    <tr style=\"text-align: right;\">\n",
       "      <th></th>\n",
       "      <th>Tipo</th>\n",
       "      <th>Data</th>\n",
       "      <th>Curtidas</th>\n",
       "      <th>Comentários</th>\n",
       "      <th>Visualizações</th>\n",
       "      <th>Tags</th>\n",
       "      <th>Pessoas</th>\n",
       "      <th>Campanhas</th>\n",
       "      <th>Carrossel</th>\n",
       "      <th>Interacoes</th>\n",
       "    </tr>\n",
       "  </thead>\n",
       "  <tbody>\n",
       "    <tr>\n",
       "      <th>0</th>\n",
       "      <td>Foto</td>\n",
       "      <td>11-Sep</td>\n",
       "      <td>2,858</td>\n",
       "      <td>16</td>\n",
       "      <td>NaN</td>\n",
       "      <td>Loja</td>\n",
       "      <td>N</td>\n",
       "      <td>N</td>\n",
       "      <td>NaN</td>\n",
       "      <td>2,874</td>\n",
       "    </tr>\n",
       "    <tr>\n",
       "      <th>1</th>\n",
       "      <td>Foto</td>\n",
       "      <td>11-Sep</td>\n",
       "      <td>2,930</td>\n",
       "      <td>28</td>\n",
       "      <td>NaN</td>\n",
       "      <td>Loja/Produtos</td>\n",
       "      <td>N</td>\n",
       "      <td>N</td>\n",
       "      <td>NaN</td>\n",
       "      <td>2,958</td>\n",
       "    </tr>\n",
       "    <tr>\n",
       "      <th>2</th>\n",
       "      <td>Foto</td>\n",
       "      <td>11-Sep</td>\n",
       "      <td>2,807</td>\n",
       "      <td>9</td>\n",
       "      <td>NaN</td>\n",
       "      <td>Loja</td>\n",
       "      <td>N</td>\n",
       "      <td>N</td>\n",
       "      <td>NaN</td>\n",
       "      <td>2,816</td>\n",
       "    </tr>\n",
       "  </tbody>\n",
       "</table>\n",
       "</div>"
      ],
      "text/plain": [
       "   Tipo    Data Curtidas  Comentários Visualizações           Tags Pessoas  \\\n",
       "0  Foto  11-Sep    2,858           16           NaN           Loja       N   \n",
       "1  Foto  11-Sep    2,930           28           NaN  Loja/Produtos       N   \n",
       "2  Foto  11-Sep    2,807            9           NaN           Loja       N   \n",
       "\n",
       "  Campanhas Carrossel Interacoes   \n",
       "0         N       NaN       2,874  \n",
       "1         N       NaN       2,958  \n",
       "2         N       NaN       2,816  "
      ]
     },
     "metadata": {},
     "output_type": "display_data"
    },
    {
     "data": {
      "text/html": [
       "<div>\n",
       "<style scoped>\n",
       "    .dataframe tbody tr th:only-of-type {\n",
       "        vertical-align: middle;\n",
       "    }\n",
       "\n",
       "    .dataframe tbody tr th {\n",
       "        vertical-align: top;\n",
       "    }\n",
       "\n",
       "    .dataframe thead th {\n",
       "        text-align: right;\n",
       "    }\n",
       "</style>\n",
       "<table border=\"1\" class=\"dataframe\">\n",
       "  <thead>\n",
       "    <tr style=\"text-align: right;\">\n",
       "      <th></th>\n",
       "      <th>Tipo</th>\n",
       "      <th>Data</th>\n",
       "      <th>Curtidas</th>\n",
       "      <th>Comentários</th>\n",
       "      <th>Visualizações</th>\n",
       "      <th>Tags</th>\n",
       "      <th>Pessoas</th>\n",
       "      <th>Campanhas</th>\n",
       "      <th>Carrossel</th>\n",
       "      <th>Interacoes</th>\n",
       "    </tr>\n",
       "  </thead>\n",
       "  <tbody>\n",
       "    <tr>\n",
       "      <th>49</th>\n",
       "      <td>Foto</td>\n",
       "      <td>22-Mar</td>\n",
       "      <td>9,087</td>\n",
       "      <td>106</td>\n",
       "      <td>NaN</td>\n",
       "      <td>NaN</td>\n",
       "      <td>S</td>\n",
       "      <td>S</td>\n",
       "      <td>NaN</td>\n",
       "      <td>9,193</td>\n",
       "    </tr>\n",
       "    <tr>\n",
       "      <th>50</th>\n",
       "      <td>Foto</td>\n",
       "      <td>26-Mar</td>\n",
       "      <td>16,551</td>\n",
       "      <td>186</td>\n",
       "      <td>NaN</td>\n",
       "      <td>NaN</td>\n",
       "      <td>S</td>\n",
       "      <td>N</td>\n",
       "      <td>NaN</td>\n",
       "      <td>16,737</td>\n",
       "    </tr>\n",
       "    <tr>\n",
       "      <th>51</th>\n",
       "      <td>IGTV</td>\n",
       "      <td>27-Mar</td>\n",
       "      <td>4,934</td>\n",
       "      <td>65</td>\n",
       "      <td>12,627</td>\n",
       "      <td>Dicas de como usar/Produtos</td>\n",
       "      <td>S</td>\n",
       "      <td>N</td>\n",
       "      <td>NaN</td>\n",
       "      <td>4,999</td>\n",
       "    </tr>\n",
       "  </tbody>\n",
       "</table>\n",
       "</div>"
      ],
      "text/plain": [
       "    Tipo    Data Curtidas  Comentários Visualizações  \\\n",
       "49  Foto  22-Mar    9,087          106           NaN   \n",
       "50  Foto  26-Mar   16,551          186           NaN   \n",
       "51  IGTV  27-Mar    4,934           65        12,627   \n",
       "\n",
       "                           Tags Pessoas Campanhas Carrossel Interacoes   \n",
       "49                          NaN       S         S       NaN       9,193  \n",
       "50                          NaN       S         N       NaN      16,737  \n",
       "51  Dicas de como usar/Produtos       S         N       NaN       4,999  "
      ]
     },
     "metadata": {},
     "output_type": "display_data"
    }
   ],
   "source": [
    "df = pd.read_csv(consts.DATASET_RAW) # Armazenando o dataset em uma variável\n",
    "\n",
    "display(df.head(3)) # Exibindo as 3 primeiras linhas do dataset\n",
    "\n",
    "display(df.tail(3)) # Exibindo as 3 últimas linhas do dataset"
   ]
  },
  {
   "cell_type": "markdown",
   "metadata": {},
   "source": [
    "### Visualizando os detalhes do dataset"
   ]
  },
  {
   "cell_type": "code",
   "execution_count": 3,
   "metadata": {},
   "outputs": [
    {
     "name": "stdout",
     "output_type": "stream",
     "text": [
      "<class 'pandas.core.frame.DataFrame'>\n",
      "RangeIndex: 52 entries, 0 to 51\n",
      "Data columns (total 10 columns):\n",
      " #   Column         Non-Null Count  Dtype \n",
      "---  ------         --------------  ----- \n",
      " 0   Tipo           52 non-null     object\n",
      " 1   Data           52 non-null     object\n",
      " 2   Curtidas       52 non-null     object\n",
      " 3   Comentários    52 non-null     int64 \n",
      " 4   Visualizações  15 non-null     object\n",
      " 5   Tags           44 non-null     object\n",
      " 6   Pessoas        52 non-null     object\n",
      " 7   Campanhas      52 non-null     object\n",
      " 8   Carrossel      8 non-null      object\n",
      " 9   Interacoes     52 non-null     object\n",
      "dtypes: int64(1), object(9)\n",
      "memory usage: 4.2+ KB\n"
     ]
    }
   ],
   "source": [
    "df.info() # Exibindo as informações das variáveis do dataset"
   ]
  },
  {
   "cell_type": "markdown",
   "metadata": {},
   "source": [
    "### Visualizando as estatísticas das colunas numéricas"
   ]
  },
  {
   "cell_type": "code",
   "execution_count": 4,
   "metadata": {},
   "outputs": [
    {
     "data": {
      "text/html": [
       "<div>\n",
       "<style scoped>\n",
       "    .dataframe tbody tr th:only-of-type {\n",
       "        vertical-align: middle;\n",
       "    }\n",
       "\n",
       "    .dataframe tbody tr th {\n",
       "        vertical-align: top;\n",
       "    }\n",
       "\n",
       "    .dataframe thead th {\n",
       "        text-align: right;\n",
       "    }\n",
       "</style>\n",
       "<table border=\"1\" class=\"dataframe\">\n",
       "  <thead>\n",
       "    <tr style=\"text-align: right;\">\n",
       "      <th></th>\n",
       "      <th>Comentários</th>\n",
       "    </tr>\n",
       "  </thead>\n",
       "  <tbody>\n",
       "    <tr>\n",
       "      <th>count</th>\n",
       "      <td>52.00</td>\n",
       "    </tr>\n",
       "    <tr>\n",
       "      <th>mean</th>\n",
       "      <td>189.50</td>\n",
       "    </tr>\n",
       "    <tr>\n",
       "      <th>std</th>\n",
       "      <td>170.69</td>\n",
       "    </tr>\n",
       "    <tr>\n",
       "      <th>min</th>\n",
       "      <td>9.00</td>\n",
       "    </tr>\n",
       "    <tr>\n",
       "      <th>25%</th>\n",
       "      <td>69.50</td>\n",
       "    </tr>\n",
       "    <tr>\n",
       "      <th>50%</th>\n",
       "      <td>128.00</td>\n",
       "    </tr>\n",
       "    <tr>\n",
       "      <th>75%</th>\n",
       "      <td>265.25</td>\n",
       "    </tr>\n",
       "    <tr>\n",
       "      <th>max</th>\n",
       "      <td>852.00</td>\n",
       "    </tr>\n",
       "  </tbody>\n",
       "</table>\n",
       "</div>"
      ],
      "text/plain": [
       "       Comentários\n",
       "count        52.00\n",
       "mean        189.50\n",
       "std         170.69\n",
       "min           9.00\n",
       "25%          69.50\n",
       "50%         128.00\n",
       "75%         265.25\n",
       "max         852.00"
      ]
     },
     "metadata": {},
     "output_type": "display_data"
    }
   ],
   "source": [
    "fn_stats.describe(df) # Usando a função que exibe as estatísticas das colunas numéricas"
   ]
  },
  {
   "cell_type": "markdown",
   "metadata": {},
   "source": [
    "### Visualizando as estatísticas da colunas categóricas"
   ]
  },
  {
   "cell_type": "code",
   "execution_count": 5,
   "metadata": {},
   "outputs": [
    {
     "data": {
      "text/html": [
       "<div>\n",
       "<style scoped>\n",
       "    .dataframe tbody tr th:only-of-type {\n",
       "        vertical-align: middle;\n",
       "    }\n",
       "\n",
       "    .dataframe tbody tr th {\n",
       "        vertical-align: top;\n",
       "    }\n",
       "\n",
       "    .dataframe thead th {\n",
       "        text-align: right;\n",
       "    }\n",
       "</style>\n",
       "<table border=\"1\" class=\"dataframe\">\n",
       "  <thead>\n",
       "    <tr style=\"text-align: right;\">\n",
       "      <th></th>\n",
       "      <th>Tipo</th>\n",
       "      <th>Data</th>\n",
       "      <th>Curtidas</th>\n",
       "      <th>Visualizações</th>\n",
       "      <th>Tags</th>\n",
       "      <th>Pessoas</th>\n",
       "      <th>Campanhas</th>\n",
       "      <th>Carrossel</th>\n",
       "      <th>Interacoes</th>\n",
       "    </tr>\n",
       "  </thead>\n",
       "  <tbody>\n",
       "    <tr>\n",
       "      <th>count</th>\n",
       "      <td>52</td>\n",
       "      <td>52</td>\n",
       "      <td>52</td>\n",
       "      <td>15</td>\n",
       "      <td>44</td>\n",
       "      <td>52</td>\n",
       "      <td>52</td>\n",
       "      <td>8</td>\n",
       "      <td>52</td>\n",
       "    </tr>\n",
       "    <tr>\n",
       "      <th>unique</th>\n",
       "      <td>4</td>\n",
       "      <td>50</td>\n",
       "      <td>52</td>\n",
       "      <td>15</td>\n",
       "      <td>12</td>\n",
       "      <td>2</td>\n",
       "      <td>2</td>\n",
       "      <td>1</td>\n",
       "      <td>52</td>\n",
       "    </tr>\n",
       "    <tr>\n",
       "      <th>top</th>\n",
       "      <td>Foto</td>\n",
       "      <td>11-Sep</td>\n",
       "      <td>2,858</td>\n",
       "      <td>82,878</td>\n",
       "      <td>Produtos</td>\n",
       "      <td>S</td>\n",
       "      <td>N</td>\n",
       "      <td>S</td>\n",
       "      <td>2,874</td>\n",
       "    </tr>\n",
       "    <tr>\n",
       "      <th>freq</th>\n",
       "      <td>36</td>\n",
       "      <td>3</td>\n",
       "      <td>1</td>\n",
       "      <td>1</td>\n",
       "      <td>12</td>\n",
       "      <td>40</td>\n",
       "      <td>30</td>\n",
       "      <td>8</td>\n",
       "      <td>1</td>\n",
       "    </tr>\n",
       "  </tbody>\n",
       "</table>\n",
       "</div>"
      ],
      "text/plain": [
       "        Tipo    Data Curtidas Visualizações      Tags Pessoas Campanhas  \\\n",
       "count     52      52       52            15        44      52        52   \n",
       "unique     4      50       52            15        12       2         2   \n",
       "top     Foto  11-Sep    2,858        82,878  Produtos       S         N   \n",
       "freq      36       3        1             1        12      40        30   \n",
       "\n",
       "       Carrossel Interacoes   \n",
       "count          8          52  \n",
       "unique         1          52  \n",
       "top            S       2,874  \n",
       "freq           8           1  "
      ]
     },
     "execution_count": 5,
     "metadata": {},
     "output_type": "execute_result"
    }
   ],
   "source": [
    "df.describe(exclude='number') # Exibindo as estatísticas das colunas categóricas"
   ]
  },
  {
   "cell_type": "markdown",
   "metadata": {},
   "source": [
    "### Verificando as colunas com valores nulos"
   ]
  },
  {
   "cell_type": "code",
   "execution_count": 6,
   "metadata": {},
   "outputs": [
    {
     "data": {
      "text/plain": [
       "Tipo              0\n",
       "Data              0\n",
       "Curtidas          0\n",
       "Comentários       0\n",
       "Visualizações    37\n",
       "Tags              8\n",
       "Pessoas           0\n",
       "Campanhas         0\n",
       "Carrossel        44\n",
       "Interacoes        0\n",
       "dtype: int64"
      ]
     },
     "execution_count": 6,
     "metadata": {},
     "output_type": "execute_result"
    }
   ],
   "source": [
    "df.isnull().sum() # Somando todos os valores nulos de cada coluna"
   ]
  },
  {
   "cell_type": "markdown",
   "metadata": {},
   "source": [
    "### Gerando o relatório Profile Report"
   ]
  },
  {
   "cell_type": "code",
   "execution_count": 7,
   "metadata": {},
   "outputs": [
    {
     "data": {
      "application/vnd.jupyter.widget-view+json": {
       "model_id": "2eb2295b8d6b436d9f4f2218c8df10ad",
       "version_major": 2,
       "version_minor": 0
      },
      "text/plain": [
       "Summarize dataset:   0%|          | 0/5 [00:00<?, ?it/s]"
      ]
     },
     "metadata": {},
     "output_type": "display_data"
    },
    {
     "data": {
      "application/vnd.jupyter.widget-view+json": {
       "model_id": "8c00ebb730924a81a25ccff0614ac8a5",
       "version_major": 2,
       "version_minor": 0
      },
      "text/plain": [
       "Generate report structure:   0%|          | 0/1 [00:00<?, ?it/s]"
      ]
     },
     "metadata": {},
     "output_type": "display_data"
    },
    {
     "data": {
      "application/vnd.jupyter.widget-view+json": {
       "model_id": "feb7a103173a4156980536e79114895d",
       "version_major": 2,
       "version_minor": 0
      },
      "text/plain": [
       "Render HTML:   0%|          | 0/1 [00:00<?, ?it/s]"
      ]
     },
     "metadata": {},
     "output_type": "display_data"
    },
    {
     "data": {
      "application/vnd.jupyter.widget-view+json": {
       "model_id": "c08a51dded664ae5801f31450921f395",
       "version_major": 2,
       "version_minor": 0
      },
      "text/plain": [
       "Export report to file:   0%|          | 0/1 [00:00<?, ?it/s]"
      ]
     },
     "metadata": {},
     "output_type": "display_data"
    }
   ],
   "source": [
    "profile = ProfileReport(df) # Armazenando em uma variável o ProfileReport\n",
    "\n",
    "profile.to_file(consts.EDA_0) # Salvando o profile report na pasta reports em formato html"
   ]
  },
  {
   "cell_type": "markdown",
   "metadata": {},
   "source": [
    "### Conclusões obtidas no relatório e as próximas ações para tratar o dataset\n",
    "\n",
    "- **Colunas que devem ter o tipo de dados corrigido** \n",
    "    1. N/A\n",
    "- **Colunas que devem ter valores nulos/vazios tratados** \n",
    "    1. CustomerID\n",
    "    2. idade\n",
    "    3. sexo\n",
    "    4. tempo_como_cliente\n",
    "    5. frequencia_de_uso\n",
    "    6. ligacoes_callcenter\n",
    "    7. dias_atraso\n",
    "    8. assinatura\n",
    "    9. duracao_contrato\n",
    "    10. total_gasto\n",
    "    11. meses_ultima_interacao\n",
    "    12. cancelou\n",
    "- **Colunas que devem ser convertidas de data para tempo/idade** \n",
    "    1. N/A\n",
    "- **Colunas que devem ter categorias mescladas** \n",
    "    1. N/A\n",
    "- **Colunas que devem ser unificadas**\n",
    "    1. N/A\n",
    "- **Colunas que devem ser derivadas de outras**\n",
    "    1. N/A\n",
    "- **Colunas que devem ter valores outliers tratados** \n",
    "    1. N/A\n",
    "- **Colunas que devem ser excluídas por valores únicos** \n",
    "    1. CustomerID\n",
    "- **Colunas que devem ser excluídas por valores constantes** \n",
    "    1. N/A\n",
    "- **Colunas que devem ser excluídas após serem utilizadas como apoio** \n",
    "    1. N/A"
   ]
  }
 ],
 "metadata": {
  "kernelspec": {
   "display_name": "Python 3",
   "language": "python",
   "name": "python3"
  },
  "language_info": {
   "codemirror_mode": {
    "name": "ipython",
    "version": 3
   },
   "file_extension": ".py",
   "mimetype": "text/x-python",
   "name": "python",
   "nbconvert_exporter": "python",
   "pygments_lexer": "ipython3",
   "version": "3.12.4"
  }
 },
 "nbformat": 4,
 "nbformat_minor": 2
}
